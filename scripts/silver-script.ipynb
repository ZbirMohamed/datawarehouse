{
 "cells": [
  {
   "cell_type": "code",
   "execution_count": 1,
   "metadata": {
    "ExecuteTime": {
     "end_time": "2025-03-06T22:30:17.570075Z",
     "start_time": "2025-03-06T22:30:15.815854Z"
    }
   },
   "outputs": [],
   "source": [
    "import pandas as pd\n",
    "from database import engine_maker\n",
    "import os\n",
    "from dotenv import load_dotenv\n",
    "import matplotlib.pyplot as plt\n",
    "import numpy as np"
   ]
  },
  {
   "cell_type": "code",
   "execution_count": 2,
   "metadata": {
    "ExecuteTime": {
     "end_time": "2025-03-06T22:30:22.216399Z",
     "start_time": "2025-03-06T22:30:19.249562Z"
    }
   },
   "outputs": [],
   "source": [
    "### after wards i'll need to alter this in order for it to be usefull in a continuous data ingestion\n",
    "load_dotenv()\n",
    "engine_bronze = engine_maker(os.getenv('BRONZE_USER'),os.getenv('BRONZE_PASSWORD'),os.getenv('BRONZE_PORT'),os.getenv('BRONZE_DB'))\n",
    "engine_silver = engine_maker(os.getenv('SILVER_USER'),os.getenv('SILVER_PASSWORD'),os.getenv('SILVER_PORT'),os.getenv('SILVER_DB'))\n",
    "sales = pd.read_sql('sales',engine_bronze)"
   ]
  },
  {
   "cell_type": "code",
   "execution_count": 3,
   "metadata": {
    "ExecuteTime": {
     "end_time": "2025-03-06T22:30:24.339458Z",
     "start_time": "2025-03-06T22:30:24.327438Z"
    }
   },
   "outputs": [
    {
     "data": {
      "text/plain": "   index InvoiceNo StockCode                          Description  Quantity  \\\n0      0    536365    85123A   WHITE HANGING HEART T-LIGHT HOLDER         6   \n1      1    536365     71053                  WHITE METAL LANTERN         6   \n2      2    536365    84406B       CREAM CUPID HEARTS COAT HANGER         8   \n3      3    536365    84029G  KNITTED UNION FLAG HOT WATER BOTTLE         6   \n4      4    536365    84029E       RED WOOLLY HOTTIE WHITE HEART.         6   \n\n          InvoiceDate  UnitPrice  CustomerID         Country  \n0 2010-12-01 08:26:00       2.55     17850.0  United Kingdom  \n1 2010-12-01 08:26:00       3.39     17850.0  United Kingdom  \n2 2010-12-01 08:26:00       2.75     17850.0  United Kingdom  \n3 2010-12-01 08:26:00       3.39     17850.0  United Kingdom  \n4 2010-12-01 08:26:00       3.39     17850.0  United Kingdom  ",
      "text/html": "<div>\n<style scoped>\n    .dataframe tbody tr th:only-of-type {\n        vertical-align: middle;\n    }\n\n    .dataframe tbody tr th {\n        vertical-align: top;\n    }\n\n    .dataframe thead th {\n        text-align: right;\n    }\n</style>\n<table border=\"1\" class=\"dataframe\">\n  <thead>\n    <tr style=\"text-align: right;\">\n      <th></th>\n      <th>index</th>\n      <th>InvoiceNo</th>\n      <th>StockCode</th>\n      <th>Description</th>\n      <th>Quantity</th>\n      <th>InvoiceDate</th>\n      <th>UnitPrice</th>\n      <th>CustomerID</th>\n      <th>Country</th>\n    </tr>\n  </thead>\n  <tbody>\n    <tr>\n      <th>0</th>\n      <td>0</td>\n      <td>536365</td>\n      <td>85123A</td>\n      <td>WHITE HANGING HEART T-LIGHT HOLDER</td>\n      <td>6</td>\n      <td>2010-12-01 08:26:00</td>\n      <td>2.55</td>\n      <td>17850.0</td>\n      <td>United Kingdom</td>\n    </tr>\n    <tr>\n      <th>1</th>\n      <td>1</td>\n      <td>536365</td>\n      <td>71053</td>\n      <td>WHITE METAL LANTERN</td>\n      <td>6</td>\n      <td>2010-12-01 08:26:00</td>\n      <td>3.39</td>\n      <td>17850.0</td>\n      <td>United Kingdom</td>\n    </tr>\n    <tr>\n      <th>2</th>\n      <td>2</td>\n      <td>536365</td>\n      <td>84406B</td>\n      <td>CREAM CUPID HEARTS COAT HANGER</td>\n      <td>8</td>\n      <td>2010-12-01 08:26:00</td>\n      <td>2.75</td>\n      <td>17850.0</td>\n      <td>United Kingdom</td>\n    </tr>\n    <tr>\n      <th>3</th>\n      <td>3</td>\n      <td>536365</td>\n      <td>84029G</td>\n      <td>KNITTED UNION FLAG HOT WATER BOTTLE</td>\n      <td>6</td>\n      <td>2010-12-01 08:26:00</td>\n      <td>3.39</td>\n      <td>17850.0</td>\n      <td>United Kingdom</td>\n    </tr>\n    <tr>\n      <th>4</th>\n      <td>4</td>\n      <td>536365</td>\n      <td>84029E</td>\n      <td>RED WOOLLY HOTTIE WHITE HEART.</td>\n      <td>6</td>\n      <td>2010-12-01 08:26:00</td>\n      <td>3.39</td>\n      <td>17850.0</td>\n      <td>United Kingdom</td>\n    </tr>\n  </tbody>\n</table>\n</div>"
     },
     "execution_count": 3,
     "metadata": {},
     "output_type": "execute_result"
    }
   ],
   "source": [
    "sales.head()"
   ]
  },
  {
   "cell_type": "code",
   "execution_count": 4,
   "metadata": {
    "ExecuteTime": {
     "end_time": "2025-03-06T22:30:30.995293Z",
     "start_time": "2025-03-06T22:30:30.915145Z"
    }
   },
   "outputs": [
    {
     "data": {
      "text/plain": "index          False\nInvoiceNo      False\nStockCode      False\nDescription     True\nQuantity       False\nInvoiceDate    False\nUnitPrice      False\nCustomerID      True\nCountry        False\ndtype: bool"
     },
     "execution_count": 4,
     "metadata": {},
     "output_type": "execute_result"
    }
   ],
   "source": [
    "sales.isnull().any()"
   ]
  },
  {
   "cell_type": "code",
   "execution_count": 5,
   "metadata": {
    "ExecuteTime": {
     "end_time": "2025-03-06T22:30:35.446451Z",
     "start_time": "2025-03-06T22:30:35.379502Z"
    }
   },
   "outputs": [],
   "source": [
    "#### cleaning comes first ####\n",
    "sales.loc[sales['CustomerID'].isnull()] \n",
    "sales['CustomerID'] = sales['CustomerID'].fillna('unknown')"
   ]
  },
  {
   "cell_type": "code",
   "execution_count": 6,
   "metadata": {
    "ExecuteTime": {
     "end_time": "2025-03-06T22:30:37.729211Z",
     "start_time": "2025-03-06T22:30:37.629599Z"
    }
   },
   "outputs": [],
   "source": [
    "sales.loc[sales['Description'].isnull()]\n",
    "sales['Description'] = sales['Description'].fillna('unknown product')"
   ]
  },
  {
   "cell_type": "code",
   "execution_count": 7,
   "metadata": {
    "ExecuteTime": {
     "end_time": "2025-03-06T22:30:40.231962Z",
     "start_time": "2025-03-06T22:30:39.965265Z"
    }
   },
   "outputs": [
    {
     "data": {
      "text/plain": "<Figure size 600x500 with 1 Axes>",
      "image/png": "[encoded data removed]"
     },
     "metadata": {},
     "output_type": "display_data"
    }
   ],
   "source": [
    "### Analyese des champs quantitative ##\n",
    "plt.figure(figsize=(6,5))\n",
    "plt.boxplot(sales['Quantity'], vert=False, patch_artist=True)\n",
    "plt.xlabel(\"quantiter\")\n",
    "plt.title(\"Boxplot des quantite\")\n",
    "plt.show()"
   ]
  },
  {
   "cell_type": "code",
   "execution_count": 8,
   "metadata": {
    "ExecuteTime": {
     "end_time": "2025-03-06T22:30:47.191093Z",
     "start_time": "2025-03-06T22:30:47.182185Z"
    }
   },
   "outputs": [
    {
     "data": {
      "text/plain": "         index InvoiceNo StockCode                     Description  Quantity  \\\n61619    61619    541431     23166  MEDIUM CERAMIC TOP STORAGE JAR     74215   \n502126  502122    578841     84826  ASSTD DESIGN 3D PAPER STICKERS     12540   \n540421  540421    581483     23843     PAPER CRAFT , LITTLE BIRDIE     80995   \n\n               InvoiceDate  UnitPrice CustomerID         Country  \n61619  2011-01-18 10:01:00       1.04    12346.0  United Kingdom  \n502126 2011-11-25 15:57:00       0.00    13256.0  United Kingdom  \n540421 2011-12-09 09:15:00       2.08    16446.0  United Kingdom  ",
      "text/html": "<div>\n<style scoped>\n    .dataframe tbody tr th:only-of-type {\n        vertical-align: middle;\n    }\n\n    .dataframe tbody tr th {\n        vertical-align: top;\n    }\n\n    .dataframe thead th {\n        text-align: right;\n    }\n</style>\n<table border=\"1\" class=\"dataframe\">\n  <thead>\n    <tr style=\"text-align: right;\">\n      <th></th>\n      <th>index</th>\n      <th>InvoiceNo</th>\n      <th>StockCode</th>\n      <th>Description</th>\n      <th>Quantity</th>\n      <th>InvoiceDate</th>\n      <th>UnitPrice</th>\n      <th>CustomerID</th>\n      <th>Country</th>\n    </tr>\n  </thead>\n  <tbody>\n    <tr>\n      <th>61619</th>\n      <td>61619</td>\n      <td>541431</td>\n      <td>23166</td>\n      <td>MEDIUM CERAMIC TOP STORAGE JAR</td>\n      <td>74215</td>\n      <td>2011-01-18 10:01:00</td>\n      <td>1.04</td>\n      <td>12346.0</td>\n      <td>United Kingdom</td>\n    </tr>\n    <tr>\n      <th>502126</th>\n      <td>502122</td>\n      <td>578841</td>\n      <td>84826</td>\n      <td>ASSTD DESIGN 3D PAPER STICKERS</td>\n      <td>12540</td>\n      <td>2011-11-25 15:57:00</td>\n      <td>0.00</td>\n      <td>13256.0</td>\n      <td>United Kingdom</td>\n    </tr>\n    <tr>\n      <th>540421</th>\n      <td>540421</td>\n      <td>581483</td>\n      <td>23843</td>\n      <td>PAPER CRAFT , LITTLE BIRDIE</td>\n      <td>80995</td>\n      <td>2011-12-09 09:15:00</td>\n      <td>2.08</td>\n      <td>16446.0</td>\n      <td>United Kingdom</td>\n    </tr>\n  </tbody>\n</table>\n</div>"
     },
     "execution_count": 8,
     "metadata": {},
     "output_type": "execute_result"
    }
   ],
   "source": [
    "### there seems to be something gp ###\n",
    "sales.loc[sales['Quantity'] > 10000 ]"
   ]
  },
  {
   "cell_type": "code",
   "execution_count": 9,
   "metadata": {
    "ExecuteTime": {
     "end_time": "2025-03-06T22:30:52.802007Z",
     "start_time": "2025-03-06T22:30:52.764780Z"
    }
   },
   "outputs": [
    {
     "data": {
      "text/plain": "         index InvoiceNo StockCode                   Description  Quantity  \\\n6391      6391    536941     22734                        amazon        20   \n6392      6392    536942     22139                        amazon        15   \n7313      7313    537032     21275                             ?       -30   \n9302      9302    537197     22841  ROUND CAKE TIN VINTAGE GREEN         1   \n13217    13217    537425    84968F                         check       -20   \n...        ...       ...       ...                           ...       ...   \n535336  535336    581213     22576                         check       -30   \n536908  536908    581226     23090                       missing      -338   \n538504  538504    581406    46000M  POLYESTER FILLER PAD 45x45cm       240   \n538505  538505    581406    46000S  POLYESTER FILLER PAD 40x40cm       300   \n538919  538919    581422     23169                       smashed      -235   \n\n               InvoiceDate  UnitPrice CustomerID         Country  \n6391   2010-12-03 12:08:00        0.0    unknown  United Kingdom  \n6392   2010-12-03 12:08:00        0.0    unknown  United Kingdom  \n7313   2010-12-03 16:50:00        0.0    unknown  United Kingdom  \n9302   2010-12-05 14:02:00        0.0    12647.0         Germany  \n13217  2010-12-06 15:35:00        0.0    unknown  United Kingdom  \n...                    ...        ...        ...             ...  \n535336 2011-12-07 18:38:00        0.0    unknown  United Kingdom  \n536908 2011-12-08 09:56:00        0.0    unknown  United Kingdom  \n538504 2011-12-08 13:58:00        0.0    unknown  United Kingdom  \n538505 2011-12-08 13:58:00        0.0    unknown  United Kingdom  \n538919 2011-12-08 15:24:00        0.0    unknown  United Kingdom  \n\n[1061 rows x 9 columns]",
      "text/html": "<div>\n<style scoped>\n    .dataframe tbody tr th:only-of-type {\n        vertical-align: middle;\n    }\n\n    .dataframe tbody tr th {\n        vertical-align: top;\n    }\n\n    .dataframe thead th {\n        text-align: right;\n    }\n</style>\n<table border=\"1\" class=\"dataframe\">\n  <thead>\n    <tr style=\"text-align: right;\">\n      <th></th>\n      <th>index</th>\n      <th>InvoiceNo</th>\n      <th>StockCode</th>\n      <th>Description</th>\n      <th>Quantity</th>\n      <th>InvoiceDate</th>\n      <th>UnitPrice</th>\n      <th>CustomerID</th>\n      <th>Country</th>\n    </tr>\n  </thead>\n  <tbody>\n    <tr>\n      <th>6391</th>\n      <td>6391</td>\n      <td>536941</td>\n      <td>22734</td>\n      <td>amazon</td>\n      <td>20</td>\n      <td>2010-12-03 12:08:00</td>\n      <td>0.0</td>\n      <td>unknown</td>\n      <td>United Kingdom</td>\n    </tr>\n    <tr>\n      <th>6392</th>\n      <td>6392</td>\n      <td>536942</td>\n      <td>22139</td>\n      <td>amazon</td>\n      <td>15</td>\n      <td>2010-12-03 12:08:00</td>\n      <td>0.0</td>\n      <td>unknown</td>\n      <td>United Kingdom</td>\n    </tr>\n    <tr>\n      <th>7313</th>\n      <td>7313</td>\n      <td>537032</td>\n      <td>21275</td>\n      <td>?</td>\n      <td>-30</td>\n      <td>2010-12-03 16:50:00</td>\n      <td>0.0</td>\n      <td>unknown</td>\n      <td>United Kingdom</td>\n    </tr>\n    <tr>\n      <th>9302</th>\n      <td>9302</td>\n      <td>537197</td>\n      <td>22841</td>\n      <td>ROUND CAKE TIN VINTAGE GREEN</td>\n      <td>1</td>\n      <td>2010-12-05 14:02:00</td>\n      <td>0.0</td>\n      <td>12647.0</td>\n      <td>Germany</td>\n    </tr>\n    <tr>\n      <th>13217</th>\n      <td>13217</td>\n      <td>537425</td>\n      <td>84968F</td>\n      <td>check</td>\n      <td>-20</td>\n      <td>2010-12-06 15:35:00</td>\n      <td>0.0</td>\n      <td>unknown</td>\n      <td>United Kingdom</td>\n    </tr>\n    <tr>\n      <th>...</th>\n      <td>...</td>\n      <td>...</td>\n      <td>...</td>\n      <td>...</td>\n      <td>...</td>\n      <td>...</td>\n      <td>...</td>\n      <td>...</td>\n      <td>...</td>\n    </tr>\n    <tr>\n      <th>535336</th>\n      <td>535336</td>\n      <td>581213</td>\n      <td>22576</td>\n      <td>check</td>\n      <td>-30</td>\n      <td>2011-12-07 18:38:00</td>\n      <td>0.0</td>\n      <td>unknown</td>\n      <td>United Kingdom</td>\n    </tr>\n    <tr>\n      <th>536908</th>\n      <td>536908</td>\n      <td>581226</td>\n      <td>23090</td>\n      <td>missing</td>\n      <td>-338</td>\n      <td>2011-12-08 09:56:00</td>\n      <td>0.0</td>\n      <td>unknown</td>\n      <td>United Kingdom</td>\n    </tr>\n    <tr>\n      <th>538504</th>\n      <td>538504</td>\n      <td>581406</td>\n      <td>46000M</td>\n      <td>POLYESTER FILLER PAD 45x45cm</td>\n      <td>240</td>\n      <td>2011-12-08 13:58:00</td>\n      <td>0.0</td>\n      <td>unknown</td>\n      <td>United Kingdom</td>\n    </tr>\n    <tr>\n      <th>538505</th>\n      <td>538505</td>\n      <td>581406</td>\n      <td>46000S</td>\n      <td>POLYESTER FILLER PAD 40x40cm</td>\n      <td>300</td>\n      <td>2011-12-08 13:58:00</td>\n      <td>0.0</td>\n      <td>unknown</td>\n      <td>United Kingdom</td>\n    </tr>\n    <tr>\n      <th>538919</th>\n      <td>538919</td>\n      <td>581422</td>\n      <td>23169</td>\n      <td>smashed</td>\n      <td>-235</td>\n      <td>2011-12-08 15:24:00</td>\n      <td>0.0</td>\n      <td>unknown</td>\n      <td>United Kingdom</td>\n    </tr>\n  </tbody>\n</table>\n<p>1061 rows × 9 columns</p>\n</div>"
     },
     "execution_count": 9,
     "metadata": {},
     "output_type": "execute_result"
    }
   ],
   "source": [
    "### let's get started with products that have no unit price\n",
    "sales.loc[ (sales['UnitPrice'] == 0) & (sales['Description'] != 'unknown product')]"
   ]
  },
  {
   "cell_type": "code",
   "execution_count": 10,
   "metadata": {
    "ExecuteTime": {
     "end_time": "2025-03-06T22:31:18.600539Z",
     "start_time": "2025-03-06T22:31:17.934313Z"
    }
   },
   "outputs": [],
   "source": [
    "sales['Desc'] = sales['Description'].str.replace(r'\\s+','0',regex=True)"
   ]
  },
  {
   "cell_type": "code",
   "execution_count": null,
   "metadata": {},
   "outputs": [
    {
     "data": {
      "text/plain": [
       "7253"
      ]
     },
     "execution_count": 51,
     "metadata": {},
     "output_type": "execute_result"
    }
   ],
   "source": [
    "sales_cleaned = sales.loc[sales['Desc'].str.contains(r'[^a-zA-Z0-9]',regex=True)]\n",
    "sales_cleaner = sales_cleaned.loc[sales_cleaned['Description'].str.contains(r'[.,?@]+',regex=True)]\n",
    "sales_cleaner['Description'].size"
   ]
  },
  {
   "cell_type": "code",
   "execution_count": 66,
   "metadata": {},
   "outputs": [
    {
     "data": {
      "text/plain": [
       "133"
      ]
     },
     "execution_count": 66,
     "metadata": {},
     "output_type": "execute_result"
    }
   ],
   "source": [
    "np.sort(sales_cleaner['Description'].unique()).size"
   ]
  },
  {
   "cell_type": "code",
   "execution_count": 65,
   "metadata": {},
   "outputs": [
    {
     "data": {
      "text/plain": [
       "130"
      ]
     },
     "execution_count": 65,
     "metadata": {},
     "output_type": "execute_result"
    }
   ],
   "source": [
    "test = sales_cleaner[~sales_cleaner['Description'].str.contains(r'^\\?+$', regex=True)]\n",
    "test['Description'].unique().size"
   ]
  },
  {
   "cell_type": "code",
   "execution_count": 11,
   "metadata": {
    "ExecuteTime": {
     "end_time": "2025-03-06T22:31:30.130533Z",
     "start_time": "2025-03-06T22:31:29.560979Z"
    }
   },
   "outputs": [],
   "source": [
    "## 0 meaning data must be removed\n",
    "## the ~ is like ! \n",
    "## first we get rid of useless data\n",
    "sales = sales.loc[~sales['Description'].str.contains(r'^\\?+$',regex=True)]\n",
    "sales_copy = sales.copy()"
   ]
  },
  {
   "cell_type": "code",
   "execution_count": 29,
   "metadata": {
    "ExecuteTime": {
     "end_time": "2025-03-06T22:40:39.986498Z",
     "start_time": "2025-03-06T22:40:38.713582Z"
    }
   },
   "outputs": [],
   "source": [
    "## giving the name same white spaces and removing dots\n",
    "sales_copy['Description'] = sales_copy['Description'].str.replace(r'\\s+',' ',regex=True).str.replace(r'^[*.,!?/]|[*.,!?]|[*.,!?]$','',regex=True).str.strip()"
   ]
  },
  {
   "cell_type": "code",
   "execution_count": 42,
   "metadata": {
    "ExecuteTime": {
     "end_time": "2025-03-06T22:54:30.715761Z",
     "start_time": "2025-03-06T22:54:30.633897Z"
    }
   },
   "outputs": [
    {
     "data": {
      "text/plain": "array(['WHITE HANGING HEART T-LIGHT HOLDER', 'WHITE METAL LANTERN',\n       'CREAM CUPID HEARTS COAT HANGER', ..., 'mixed up',\n       'CREAM HANGING HEART T-LIGHT HOLDER', 'PAPER CRAFT LITTLE BIRDIE'],\n      shape=(4167,), dtype=object)"
     },
     "execution_count": 42,
     "metadata": {},
     "output_type": "execute_result"
    }
   ],
   "source": [
    "sales_copy['Description'].unique()"
   ]
  },
  {
   "cell_type": "code",
   "execution_count": 31,
   "metadata": {
    "ExecuteTime": {
     "end_time": "2025-03-06T22:40:49.610114Z",
     "start_time": "2025-03-06T22:40:49.542172Z"
    }
   },
   "outputs": [],
   "source": [
    "desc = pd.DataFrame(sales_copy['Description'].unique())"
   ]
  },
  {
   "cell_type": "code",
   "execution_count": 43,
   "metadata": {
    "ExecuteTime": {
     "end_time": "2025-03-06T22:55:09.475281Z",
     "start_time": "2025-03-06T22:55:08.907104Z"
    }
   },
   "outputs": [],
   "source": [
    "sales_copy = sales_copy.loc[~((sales_copy['Description'].str.contains(r'wrongly')) & (sales_copy['Quantity'] < 0 )) ]\n",
    "sales_copy = sales_copy.loc[~(sales_copy['Description'].str.contains(r'wrongly'))]"
   ]
  },
  {
   "cell_type": "markdown",
   "source": [],
   "metadata": {
    "collapsed": false
   }
  },
  {
   "cell_type": "code",
   "execution_count": 44,
   "metadata": {
    "ExecuteTime": {
     "end_time": "2025-03-06T22:55:14.732689Z",
     "start_time": "2025-03-06T22:55:14.571268Z"
    }
   },
   "outputs": [
    {
     "data": {
      "text/plain": "Empty DataFrame\nColumns: [index, InvoiceNo, StockCode, Description, Quantity, InvoiceDate, UnitPrice, CustomerID, Country, Desc]\nIndex: []",
      "text/html": "<div>\n<style scoped>\n    .dataframe tbody tr th:only-of-type {\n        vertical-align: middle;\n    }\n\n    .dataframe tbody tr th {\n        vertical-align: top;\n    }\n\n    .dataframe thead th {\n        text-align: right;\n    }\n</style>\n<table border=\"1\" class=\"dataframe\">\n  <thead>\n    <tr style=\"text-align: right;\">\n      <th></th>\n      <th>index</th>\n      <th>InvoiceNo</th>\n      <th>StockCode</th>\n      <th>Description</th>\n      <th>Quantity</th>\n      <th>InvoiceDate</th>\n      <th>UnitPrice</th>\n      <th>CustomerID</th>\n      <th>Country</th>\n      <th>Desc</th>\n    </tr>\n  </thead>\n  <tbody>\n  </tbody>\n</table>\n</div>"
     },
     "execution_count": 44,
     "metadata": {},
     "output_type": "execute_result"
    }
   ],
   "source": [
    "sales_copy.loc[sales_copy['Description'].str.contains('wrongly')]"
   ]
  },
  {
   "cell_type": "code",
   "outputs": [],
   "source": [
    "sales_copy.loc[sales_copy['Description'].str.contains(r'\\bdamage(?:d\\b|\\b)?'),'Description'] = 'Dameged' \n",
    "sales_copy.loc[sales_copy['Description'].str.contains(r'\\bcrush(?:ed\\b|\\b)?'),'Description'] = 'Crushed' \n",
    "sales_copy.loc[sales_copy['Description'].str.contains(r'throw'),'Description'] = 'Thrown' \n",
    "sales_copy.loc[sales_copy['Description'].str.contains(r'^wet'),'Description'] = 'Wet' \n",
    "sales_copy.loc[sales_copy['Description'].str.contains(r'^wrong'),'Description'] = 'Wrong Code' \n",
    "sales_copy.loc[sales_copy['Description'].str.contains(r'^sold'),'Description'] = 'Sold' \n",
    "sales_copy.loc[sales_copy['Description'].str.contains(r'^reverse'),'Description'] = 'Reverse'\n",
    "sales_copy.loc[sales_copy['Description'].str.contains(r'^mouldy'),'Description'] = 'Mouldy'\n",
    "sales_copy.loc[sales_copy['Description'].str.contains(r'mix up'),'Description'] = 'Mixed'\n",
    "sales_copy.loc[sales_copy['Description'].str.contains(r'^lost'),'Description'] = 'Lost'\n",
    "sales_copy.loc[sales_copy['Description'].str.contains(r'^incorrect'),'Description'] = 'Incorrect'\n",
    "sales_copy.loc[sales_copy['Description'].str.contains(r'^dotcom'),'Description'] = 'Dotcom'\n",
    "sales_copy.loc[sales_copy['Description'].str.contains(r'find'),'Description'] = 'Find'"
   ],
   "metadata": {
    "collapsed": false,
    "ExecuteTime": {
     "end_time": "2025-03-06T23:14:41.325684Z",
     "start_time": "2025-03-06T23:14:38.671531Z"
    }
   },
   "execution_count": 78
  },
  {
   "cell_type": "code",
   "outputs": [
    {
     "data": {
      "text/plain": "array(['website fixed', 'unknown product',\n       'to push order througha s stock was', ...,\n       '12 DAISY PEGS IN WOOD BOX', '12 COLOURED PARTY BALLOONS',\n       '10 COLOUR SPACEBOY PEN'], shape=(4108,), dtype=object)"
     },
     "execution_count": 79,
     "metadata": {},
     "output_type": "execute_result"
    }
   ],
   "source": [
    "sales_copy['Description'].sort_values(ascending=False).unique()"
   ],
   "metadata": {
    "collapsed": false,
    "ExecuteTime": {
     "end_time": "2025-03-06T23:14:42.880558Z",
     "start_time": "2025-03-06T23:14:41.896151Z"
    }
   },
   "execution_count": 79
  },
  {
   "cell_type": "code",
   "outputs": [],
   "source": [],
   "metadata": {
    "collapsed": false
   }
  }
 ],
 "metadata": {
  "kernelspec": {
   "display_name": "env",
   "language": "python",
   "name": "python3"
  },
  "language_info": {
   "codemirror_mode": {
    "name": "ipython",
    "version": 3
   },
   "file_extension": ".py",
   "mimetype": "text/x-python",
   "name": "python",
   "nbconvert_exporter": "python",
   "pygments_lexer": "ipython3",
   "version": "3.13.1"
  }
 },
 "nbformat": 4,
 "nbformat_minor": 2
}
