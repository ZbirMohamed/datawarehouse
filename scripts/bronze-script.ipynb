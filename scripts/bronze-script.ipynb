{
 "cells": [
  {
   "cell_type": "code",
   "execution_count": 1,
   "metadata": {
    "ExecuteTime": {
     "end_time": "2025-03-06T21:07:30.456754Z",
     "start_time": "2025-03-06T21:07:26.580128Z"
    }
   },
   "outputs": [],
   "source": [
    "import pandas as pd\n",
    "import numpy as np\n",
    "from database import engine_maker\n",
    "import os\n",
    "from dotenv import load_dotenv"
   ]
  },
  {
   "cell_type": "code",
   "execution_count": 2,
   "metadata": {
    "ExecuteTime": {
     "end_time": "2025-03-06T21:08:53.949417Z",
     "start_time": "2025-03-06T21:08:15.375438Z"
    }
   },
   "outputs": [],
   "source": [
    "data = pd.read_excel('../data/Online Retail.xlsx')"
   ]
  },
  {
   "cell_type": "code",
   "execution_count": 3,
   "metadata": {
    "ExecuteTime": {
     "end_time": "2025-03-06T21:09:29.849613Z",
     "start_time": "2025-03-06T21:09:29.839673Z"
    }
   },
   "outputs": [
    {
     "data": {
      "text/plain": "InvoiceNo              object\nStockCode              object\nDescription            object\nQuantity                int64\nInvoiceDate    datetime64[ns]\nUnitPrice             float64\nCustomerID            float64\nCountry                object\ndtype: object"
     },
     "execution_count": 3,
     "metadata": {},
     "output_type": "execute_result"
    }
   ],
   "source": [
    "data.head()\n",
    "data.dtypes"
   ]
  },
  {
   "cell_type": "code",
   "execution_count": 9,
   "metadata": {
    "ExecuteTime": {
     "end_time": "2025-03-06T21:10:54.718506Z",
     "start_time": "2025-03-06T21:10:54.630478Z"
    }
   },
   "outputs": [
    {
     "data": {
      "text/plain": "392748    18287.0\n392749    18287.0\n392744    18287.0\n392745    18287.0\n392746    18287.0\n           ...   \n541536        NaN\n541537        NaN\n541538        NaN\n541539        NaN\n541540        NaN\nName: CustomerID, Length: 541909, dtype: float64"
     },
     "execution_count": 9,
     "metadata": {},
     "output_type": "execute_result"
    }
   ],
   "source": [
    "data.isnull().any()\n",
    "data['CustomerID'].sort_values(ascending=False)"
   ]
  },
  {
   "cell_type": "code",
   "execution_count": 10,
   "metadata": {
    "ExecuteTime": {
     "end_time": "2025-03-06T21:11:41.606751Z",
     "start_time": "2025-03-06T21:11:41.581966Z"
    }
   },
   "outputs": [
    {
     "data": {
      "text/plain": "   customer_id first_name   last_name                     email       gender\n0        14025   Herschel      Kelsow  hkelsow0@nydailynews.com  Genderfluid\n1        12858     Cedric      Davern       cdavern1@elpais.com         Male\n2        13222     Steven  Brookfield  sbrookfield2@comcast.net         Male\n3        14562    Reynard    Yarmouth      ryarmouth3@alexa.com         Male\n4        16774     Wileen    Bleakley        wbleakley4@loc.gov       Female",
      "text/html": "<div>\n<style scoped>\n    .dataframe tbody tr th:only-of-type {\n        vertical-align: middle;\n    }\n\n    .dataframe tbody tr th {\n        vertical-align: top;\n    }\n\n    .dataframe thead th {\n        text-align: right;\n    }\n</style>\n<table border=\"1\" class=\"dataframe\">\n  <thead>\n    <tr style=\"text-align: right;\">\n      <th></th>\n      <th>customer_id</th>\n      <th>first_name</th>\n      <th>last_name</th>\n      <th>email</th>\n      <th>gender</th>\n    </tr>\n  </thead>\n  <tbody>\n    <tr>\n      <th>0</th>\n      <td>14025</td>\n      <td>Herschel</td>\n      <td>Kelsow</td>\n      <td>hkelsow0@nydailynews.com</td>\n      <td>Genderfluid</td>\n    </tr>\n    <tr>\n      <th>1</th>\n      <td>12858</td>\n      <td>Cedric</td>\n      <td>Davern</td>\n      <td>cdavern1@elpais.com</td>\n      <td>Male</td>\n    </tr>\n    <tr>\n      <th>2</th>\n      <td>13222</td>\n      <td>Steven</td>\n      <td>Brookfield</td>\n      <td>sbrookfield2@comcast.net</td>\n      <td>Male</td>\n    </tr>\n    <tr>\n      <th>3</th>\n      <td>14562</td>\n      <td>Reynard</td>\n      <td>Yarmouth</td>\n      <td>ryarmouth3@alexa.com</td>\n      <td>Male</td>\n    </tr>\n    <tr>\n      <th>4</th>\n      <td>16774</td>\n      <td>Wileen</td>\n      <td>Bleakley</td>\n      <td>wbleakley4@loc.gov</td>\n      <td>Female</td>\n    </tr>\n  </tbody>\n</table>\n</div>"
     },
     "execution_count": 10,
     "metadata": {},
     "output_type": "execute_result"
    }
   ],
   "source": [
    "data2 = pd.read_csv('../data/MOCK_DATA.csv')\n",
    "data2.head()"
   ]
  },
  {
   "cell_type": "code",
   "execution_count": 12,
   "metadata": {
    "ExecuteTime": {
     "end_time": "2025-03-06T22:10:47.606737Z",
     "start_time": "2025-03-06T22:10:47.563262Z"
    }
   },
   "outputs": [],
   "source": [
    "load_dotenv()\n",
    "engine = engine_maker(os.getenv('BRONZE_USER'),os.getenv('BRONZE_PASSWORD'),os.getenv('BRONZE_PORT'),os.getenv('BRONZE_DB'))"
   ]
  },
  {
   "cell_type": "code",
   "execution_count": 13,
   "metadata": {
    "ExecuteTime": {
     "end_time": "2025-03-06T22:11:19.485867Z",
     "start_time": "2025-03-06T22:10:49.923709Z"
    }
   },
   "outputs": [
    {
     "data": {
      "text/plain": "1000"
     },
     "execution_count": 13,
     "metadata": {},
     "output_type": "execute_result"
    }
   ],
   "source": [
    "data.to_sql('sales',engine)\n",
    "data2.to_sql('customers',engine)"
   ]
  },
  {
   "cell_type": "code",
   "execution_count": null,
   "metadata": {},
   "outputs": [],
   "source": []
  }
 ],
 "metadata": {
  "kernelspec": {
   "display_name": "env",
   "language": "python",
   "name": "python3"
  },
  "language_info": {
   "codemirror_mode": {
    "name": "ipython",
    "version": 3
   },
   "file_extension": ".py",
   "mimetype": "text/x-python",
   "name": "python",
   "nbconvert_exporter": "python",
   "pygments_lexer": "ipython3",
   "version": "3.13.1"
  }
 },
 "nbformat": 4,
 "nbformat_minor": 2
}
